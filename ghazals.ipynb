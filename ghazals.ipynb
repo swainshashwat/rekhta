{
 "cells": [
  {
   "cell_type": "code",
   "execution_count": 67,
   "metadata": {},
   "outputs": [],
   "source": [
    "import os\n",
    "import time\n",
    "import csv\n",
    "import signal\n",
    "import string\n",
    "from tqdm import tqdm\n",
    "from contextlib import contextmanager\n",
    "\n",
    "import datetime\n",
    "\n",
    "import pandas as pd\n",
    "\n",
    "from selenium import webdriver\n",
    "from selenium.webdriver.common.keys import Keys\n",
    "\n",
    "import requests\n",
    "from bs4 import BeautifulSoup\n",
    "\n",
    "from multiprocessing import Pool\n",
    "from multiprocessing import cpu_count"
   ]
  },
  {
   "cell_type": "code",
   "execution_count": 68,
   "metadata": {},
   "outputs": [],
   "source": [
    "@contextmanager\n",
    "def timeout(duration):\n",
    "    def timeout_handler(signum, frame):\n",
    "        raise Exception(f'block timedout after {duration} seconds')\n",
    "    signal.signal(signal.SIGALRM, timeout_handler)\n",
    "    signal.alarm(duration)\n",
    "    yield\n",
    "    signal.alarm(0)"
   ]
  },
  {
   "cell_type": "code",
   "execution_count": 69,
   "metadata": {},
   "outputs": [],
   "source": [
    "def scroll_down(driver):\n",
    "    \"\"\"A method for scrolling the page.\"\"\"\n",
    "    \n",
    "    height = \"offsetHeight\"\n",
    "\n",
    "    # Get scroll height.\n",
    "    last_height = driver.execute_script(\"return document.body.\"+height)\n",
    "\n",
    "    while True:\n",
    "        \n",
    "        \n",
    "        print(\"scrolling...\")\n",
    "        # Scroll down to the bottom.\n",
    "        driver.execute_script(\"window.scrollTo(0, document.body.\"+height+\");\")\n",
    "\n",
    "        # Wait to load the page.\n",
    "        print(\"waiting\")\n",
    "        time.sleep(3)\n",
    "        \n",
    "        try:\n",
    "            # Calculate new scroll height and compare with last scroll height.\n",
    "            with timeout(20):\n",
    "                new_height = driver.execute_script(\"return document.body.\"+height)\n",
    "        except Exception:\n",
    "            print('stopped scrolling - time')\n",
    "            break\n",
    "            \n",
    "\n",
    "        if new_height == last_height:\n",
    "            \n",
    "            print('stopped scrolling - reached end')\n",
    "            break\n",
    "\n",
    "        last_height = new_height\n",
    "    \n",
    "    return driver"
   ]
  },
  {
   "cell_type": "code",
   "execution_count": 70,
   "metadata": {},
   "outputs": [],
   "source": [
    "def get_all_author_profile_hyperlink(hyperlink):\n",
    "    print(\"[DEBUG] getting all author links...\")\n",
    "    driver = webdriver.Chrome()\n",
    "\n",
    "    driver.get(hyperlink)\n",
    "\n",
    "    # scroll to laod entire page\n",
    "    driver = scroll_down(driver)\n",
    "\n",
    "    # get author hyperlinks\n",
    "    author_profile_hyperlinks = []\n",
    "    elements = driver.find_elements_by_class_name(\"poetNameDatePlace\")\n",
    "\n",
    "    for element in tqdm(elements):\n",
    "        try:\n",
    "            authoer_profile = element.find_elements_by_tag_name('a')[0].get_attribute('href')\n",
    "            if authoer_profile!=None or (type(authoer_profile)==str and authoer_profile!=''):\n",
    "                author_profile_hyperlinks.append(authoer_profile)\n",
    "            else:\n",
    "                pass\n",
    "        except IndexError:\n",
    "            pass\n",
    "    driver.close()\n",
    "    \n",
    "    return author_profile_hyperlinks"
   ]
  },
  {
   "cell_type": "code",
   "execution_count": 71,
   "metadata": {},
   "outputs": [],
   "source": [
    "def get_ghazal_hyperlinks_from_author_page(author_page_hyperlink):\n",
    "    print(\"[DEBUG] Getting ghazal hyperlinks for author: \", author_page_hyperlink.split(\"/\")[-1])\n",
    "    driver = webdriver.Chrome()\n",
    "\n",
    "    driver.get('{}/ghazals'.format(author_page_hyperlink))\n",
    "    elements = driver.find_elements_by_class_name('rt_bodyTitle')\n",
    "\n",
    "    author_ghazal_hyperlinks = []\n",
    "    for element in elements:\n",
    "        for k in element.find_elements_by_tag_name('a'):\n",
    "            if k.get_attribute('href')==None:\n",
    "                pass\n",
    "            else:\n",
    "                author_ghazal_hyperlinks.append(k.get_attribute('href'))\n",
    "    \n",
    "    driver.close()\n",
    "    \n",
    "    return author_ghazal_hyperlinks"
   ]
  },
  {
   "cell_type": "code",
   "execution_count": 72,
   "metadata": {},
   "outputs": [],
   "source": [
    "def get_beautiful_ghazal_hyperlinks_from_author_page(author_page_hyperlink):\n",
    "    print(\"[DEBUG] Getting ghazal hyperlinks for author: \",\n",
    "          author_page_hyperlink.split(\"/\")[-1])\n",
    "    \n",
    "    r = requests.get('{}/ghazals'.format(author_page_hyperlink))\n",
    "    soup = BeautifulSoup(r.content, 'html5lib')\n",
    "\n",
    "    author_ghazal_hyperlinks = []\n",
    "    elements = soup.findAll('div',class_='rt_bodyTitle')\n",
    "    for element in elements:\n",
    "        author_ghazal_hyperlinks.append(element.findAll('a')[1].get('href'))\n",
    "\n",
    "    \n",
    "    return author_ghazal_hyperlinks"
   ]
  },
  {
   "cell_type": "code",
   "execution_count": 73,
   "metadata": {},
   "outputs": [],
   "source": [
    "def get_ghazal_from_hyperlink(hyperlink):\n",
    "    \n",
    "\n",
    "    complete_ghazals = {\n",
    "        'en': '',\n",
    "        'hi': '',\n",
    "        'ur': ''\n",
    "    }\n",
    "    for lang in complete_ghazals:\n",
    "        driver = webdriver.Chrome()\n",
    "        if lang=='en':\n",
    "            \n",
    "            driver.get(hyperlink)\n",
    "        else:\n",
    "            driver.get(hyperlink+'?lang='+lang)\n",
    "            \n",
    "    \n",
    "        double_lines = driver.find_elements_by_class_name('c')\n",
    "\n",
    "        check_word_text = False\n",
    "        for double_line in double_lines:\n",
    "            for line in double_line.find_elements_by_tag_name('p'):\n",
    "                for word in line.find_elements_by_tag_name('span'):\n",
    "                    if word.text==None or word.text=='':\n",
    "                        check_word_text=False\n",
    "                    else:\n",
    "                        check_word_text=True\n",
    "                    complete_ghazals[lang] +=word.text\n",
    "                if check_word_text:\n",
    "                    complete_ghazals[lang]+=\"\\n\"\n",
    "            if check_word_text:\n",
    "                complete_ghazals[lang]+=\"\\n\\n\"\n",
    "        driver.close()\n",
    "    return complete_ghazals\n"
   ]
  },
  {
   "cell_type": "code",
   "execution_count": 74,
   "metadata": {},
   "outputs": [],
   "source": [
    "def get_beautiful_ghazal_from_hyperlink(hyperlink):\n",
    "    \n",
    "    complete_ghazals = {\n",
    "        'en': '',\n",
    "        'hi': '',\n",
    "        'ur': ''\n",
    "    }\n",
    "    for lang in complete_ghazals:\n",
    "        if lang=='en':\n",
    "            \n",
    "            r = requests.get(hyperlink)\n",
    "        else:\n",
    "            r = requests.get(hyperlink+'?lang='+lang)\n",
    "        \n",
    "        soup = BeautifulSoup(r.content, 'html5lib')\n",
    "    \n",
    "        double_lines = soup.findAll(\"div\", class_=\"c\")\n",
    "\n",
    "        for double_line in double_lines:\n",
    "            for line in double_line.findAll('p'):\n",
    "                complete_ghazals[lang] += line.get_text()\n",
    "                complete_ghazals[lang] += \"\\n\"\n",
    "            \n",
    "            complete_ghazals[lang]+=\"\\n\\n\"\n",
    "            \n",
    "    return complete_ghazals\n"
   ]
  },
  {
   "cell_type": "code",
   "execution_count": 75,
   "metadata": {},
   "outputs": [],
   "source": [
    "def save_ghazal_in_file(f_name, big_data_dict):\n",
    "    with open(f_name, 'w') as f:\n",
    "        w = csv.DictWriter(f, [\"author_name\", \"ghazal_name\", \"language\", \"ghazal\"])\n",
    "        w.writeheader()\n",
    "        for row in big_data_dict:\n",
    "            if row!=None:\n",
    "                w.writerow(row)\n",
    "            else:\n",
    "                pass\n",
    "        print(\"[DEBUG] Saved on file... \"+f_name)"
   ]
  },
  {
   "cell_type": "code",
   "execution_count": 76,
   "metadata": {},
   "outputs": [],
   "source": [
    "def get_all_ghazals_for_poets_whose_name_start_with_char(alphabet='a'):\n",
    "    \n",
    "    print(\"[DEBUG] Getting ghazals for poets whose name start with '{}'\".format(alphabet))\n",
    "    \n",
    "    big_data_dict = []\n",
    "    itr = 0\n",
    "    count = 0\n",
    "    \n",
    "    thresh = 100\n",
    "    \n",
    "    if alphabet.isalpha:\n",
    "        \n",
    "        poet_index_url = \"https://www.rekhta.org/poets?startswith=\" + alphabet.upper()\n",
    "        \n",
    "        author_profile_hyperlinks = get_all_author_profile_hyperlink(poet_index_url)\n",
    "\n",
    "        for author_profile_link in tqdm(author_profile_hyperlinks):\n",
    "            author_name = author_profile_link.split('/')[-1]\n",
    "            \n",
    "            try:\n",
    "                ghazal_hyperlinks = get_beautiful_ghazal_hyperlinks_from_author_page(author_profile_link)\n",
    "\n",
    "\n",
    "                for ghazal_link in ghazal_hyperlinks:\n",
    "                    count+=1\n",
    "\n",
    "                    if count%thresh==0:\n",
    "\n",
    "                        f_name = 'data/ghazals_'+alphabet+'_'+str(int(count/thresh))+datetime.datetime.now().strftime(\"%Y%m%d%H%M%S\")+'.csv'\n",
    "                        save_ghazal_in_file(f_name, big_data_dict)\n",
    "\n",
    "                        big_data_dict = []\n",
    "                        itr = 0\n",
    "\n",
    "                    else:\n",
    "                        ghazal_name = ghazal_link.split('/')[-1]\n",
    "\n",
    "                        ghazals = get_beautiful_ghazal_from_hyperlink(ghazal_link)\n",
    "\n",
    "                        big_data_dict.extend([None]*(len(ghazals.keys())+1))\n",
    "                        for lang in ghazals:\n",
    "\n",
    "                            big_data_dict[itr] = {\n",
    "                                \"author_name\":author_name,\n",
    "                                \"ghazal_name\": ghazal_name,\n",
    "                                \"language\": lang,\n",
    "                                \"ghazal\": ghazals[lang]}\n",
    "\n",
    "                            itr+=1\n",
    "            except Exception as e:\n",
    "                print(\"[DEBUG] Exception encountered: \" + e)\n",
    "                        \n",
    "        f_name = 'data/ghazals_'+alphabet+'_'+str(int(count/thresh))+datetime.datetime.now().strftime(\"%Y%m%d%H%M%S\")+'.csv'       \n",
    "        save_ghazal_in_file(f_name, big_data_dict)\n",
    "\n",
    "        big_data_dict = []\n",
    "        itr = 0\n",
    "    else:\n",
    "        raise Exception(\"Use an alphabet\")"
   ]
  },
  {
   "cell_type": "code",
   "execution_count": 77,
   "metadata": {},
   "outputs": [],
   "source": [
    "def save_files(pool_flag=False):\n",
    "    \n",
    "    alphabets = list(string.ascii_uppercase)\n",
    "    \n",
    "    if pool_flag:\n",
    "        print(\"creating pools...\")\n",
    "        pool = Pool(cpu_count()*2)\n",
    "\n",
    "        print(\"multi pool run...\")\n",
    "        pool.map(get_all_ghazals_for_poets_whose_name_start_with_char,\n",
    "                     alphabets)\n",
    "    else:\n",
    "        print(\"one pool run...\")\n",
    "        for al in alphabets:\n",
    "            get_all_ghazals_for_poets_whose_name_start_with_char(al)"
   ]
  },
  {
   "cell_type": "code",
   "execution_count": null,
   "metadata": {
    "scrolled": false
   },
   "outputs": [
    {
     "name": "stdout",
     "output_type": "stream",
     "text": [
      "one pool run...\n",
      "[DEBUG] Getting ghazals for poets whose name start with 'A'\n",
      "[DEBUG] getting all author links...\n",
      "scrolling...\n",
      "waiting\n",
      "scrolling...\n",
      "waiting\n",
      "scrolling...\n",
      "waiting\n",
      "scrolling...\n",
      "waiting\n"
     ]
    },
    {
     "name": "stderr",
     "output_type": "stream",
     "text": [
      "/home/reverie-pc/anaconda3/envs/nlp/lib/python3.7/site-packages/ipykernel_launcher.py:12: DeprecationWarning: find_elements_by_class_name is deprecated. Please use find_elements(by=By.CLASS_NAME, value=name) instead\n",
      "  if sys.path[0] == '':\n"
     ]
    },
    {
     "name": "stdout",
     "output_type": "stream",
     "text": [
      "stopped scrolling - reached end\n"
     ]
    },
    {
     "name": "stderr",
     "output_type": "stream",
     "text": [
      "  0%|          | 0/1176 [00:00<?, ?it/s]/home/reverie-pc/anaconda3/envs/nlp/lib/python3.7/site-packages/selenium/webdriver/remote/webelement.py:359: UserWarning: find_elements_by_tag_name is deprecated. Please use find_elements(by=By.TAG_NAME, value=name) instead\n",
      "  warnings.warn(\"find_elements_by_tag_name is deprecated. Please use find_elements(by=By.TAG_NAME, value=name) instead\")\n",
      "100%|██████████| 1176/1176 [00:16<00:00, 69.46it/s]\n",
      "  0%|          | 0/1176 [00:00<?, ?it/s]"
     ]
    },
    {
     "name": "stdout",
     "output_type": "stream",
     "text": [
      "[DEBUG] Getting ghazal hyperlinks for author:  a-g-josh\n"
     ]
    },
    {
     "name": "stderr",
     "output_type": "stream",
     "text": [
      "\r",
      "  0%|          | 1/1176 [00:31<10:18:13, 31.57s/it]"
     ]
    },
    {
     "name": "stdout",
     "output_type": "stream",
     "text": [
      "[DEBUG] Getting ghazal hyperlinks for author:  a-r-sahil-aleeg\n"
     ]
    },
    {
     "name": "stderr",
     "output_type": "stream",
     "text": [
      "\r",
      "  0%|          | 2/1176 [00:37<5:25:11, 16.62s/it] "
     ]
    },
    {
     "name": "stdout",
     "output_type": "stream",
     "text": [
      "[DEBUG] Getting ghazal hyperlinks for author:  a-d-azhar\n"
     ]
    },
    {
     "name": "stderr",
     "output_type": "stream",
     "text": [
      "\r",
      "  0%|          | 3/1176 [00:38<3:05:45,  9.50s/it]"
     ]
    },
    {
     "name": "stdout",
     "output_type": "stream",
     "text": [
      "[DEBUG] Getting ghazal hyperlinks for author:  a-hameed\n"
     ]
    },
    {
     "name": "stderr",
     "output_type": "stream",
     "text": [
      "\r",
      "  0%|          | 4/1176 [00:40<2:04:40,  6.38s/it]"
     ]
    },
    {
     "name": "stdout",
     "output_type": "stream",
     "text": [
      "[DEBUG] Getting ghazal hyperlinks for author:  a-khayyam-1\n"
     ]
    },
    {
     "name": "stderr",
     "output_type": "stream",
     "text": [
      "\r",
      "  0%|          | 5/1176 [00:41<1:27:29,  4.48s/it]"
     ]
    },
    {
     "name": "stdout",
     "output_type": "stream",
     "text": [
      "[DEBUG] Getting ghazal hyperlinks for author:  adrahi\n"
     ]
    },
    {
     "name": "stderr",
     "output_type": "stream",
     "text": [
      "\r",
      "  1%|          | 6/1176 [00:42<1:04:55,  3.33s/it]"
     ]
    },
    {
     "name": "stdout",
     "output_type": "stream",
     "text": [
      "[DEBUG] Getting ghazal hyperlinks for author:  aabid-adeeb\n"
     ]
    },
    {
     "name": "stderr",
     "output_type": "stream",
     "text": [
      "\r",
      "  1%|          | 7/1176 [01:03<2:58:02,  9.14s/it]"
     ]
    },
    {
     "name": "stdout",
     "output_type": "stream",
     "text": [
      "[DEBUG] Getting ghazal hyperlinks for author:  aabid-jafri\n"
     ]
    },
    {
     "name": "stderr",
     "output_type": "stream",
     "text": [
      "\r",
      "  1%|          | 8/1176 [01:20<3:46:35, 11.64s/it]"
     ]
    },
    {
     "name": "stdout",
     "output_type": "stream",
     "text": [
      "[DEBUG] Getting ghazal hyperlinks for author:  aabid-umar\n"
     ]
    },
    {
     "name": "stderr",
     "output_type": "stream",
     "text": [
      "\r",
      "  1%|          | 9/1176 [01:40<4:36:21, 14.21s/it]"
     ]
    },
    {
     "name": "stdout",
     "output_type": "stream",
     "text": [
      "[DEBUG] Getting ghazal hyperlinks for author:  aabida-urooj\n"
     ]
    },
    {
     "name": "stderr",
     "output_type": "stream",
     "text": [
      "\r",
      "  1%|          | 10/1176 [01:42<3:24:43, 10.53s/it]"
     ]
    },
    {
     "name": "stdout",
     "output_type": "stream",
     "text": [
      "[DEBUG] Getting ghazal hyperlinks for author:  aabidullah-ghazi\n"
     ]
    },
    {
     "name": "stderr",
     "output_type": "stream",
     "text": [
      "\r",
      "  1%|          | 11/1176 [01:44<2:30:57,  7.77s/it]"
     ]
    },
    {
     "name": "stdout",
     "output_type": "stream",
     "text": [
      "[DEBUG] Getting ghazal hyperlinks for author:  aadarsh-dubey\n"
     ]
    },
    {
     "name": "stderr",
     "output_type": "stream",
     "text": [
      "\r",
      "  1%|          | 12/1176 [02:04<3:46:44, 11.69s/it]"
     ]
    },
    {
     "name": "stdout",
     "output_type": "stream",
     "text": [
      "[DEBUG] Getting ghazal hyperlinks for author:  aadil-aseer-dehlvi\n"
     ]
    },
    {
     "name": "stderr",
     "output_type": "stream",
     "text": [
      "\r",
      "  1%|          | 13/1176 [02:06<2:46:26,  8.59s/it]"
     ]
    },
    {
     "name": "stdout",
     "output_type": "stream",
     "text": [
      "[DEBUG] Getting ghazal hyperlinks for author:  aadil-rasheed\n"
     ]
    },
    {
     "name": "stderr",
     "output_type": "stream",
     "text": [
      "\r",
      "  1%|          | 14/1176 [02:08<2:09:35,  6.69s/it]"
     ]
    },
    {
     "name": "stdout",
     "output_type": "stream",
     "text": [
      "[DEBUG] Getting ghazal hyperlinks for author:  aadil-raza-mansoori\n"
     ]
    },
    {
     "name": "stderr",
     "output_type": "stream",
     "text": [
      "\r",
      "  1%|▏         | 15/1176 [02:23<2:58:25,  9.22s/it]"
     ]
    },
    {
     "name": "stdout",
     "output_type": "stream",
     "text": [
      "[DEBUG] Getting ghazal hyperlinks for author:  aafaque-siddiqui\n"
     ]
    },
    {
     "name": "stderr",
     "output_type": "stream",
     "text": [
      "\r",
      "  1%|▏         | 16/1176 [02:26<2:17:54,  7.13s/it]"
     ]
    },
    {
     "name": "stdout",
     "output_type": "stream",
     "text": [
      "[DEBUG] Getting ghazal hyperlinks for author:  aaftab-lakhnvi\n"
     ]
    },
    {
     "name": "stderr",
     "output_type": "stream",
     "text": [
      "\r",
      "  1%|▏         | 17/1176 [02:27<1:42:10,  5.29s/it]"
     ]
    },
    {
     "name": "stdout",
     "output_type": "stream",
     "text": [
      "[DEBUG] Getting ghazal hyperlinks for author:  aaftab-rais-panipati\n"
     ]
    },
    {
     "name": "stderr",
     "output_type": "stream",
     "text": [
      "\r",
      "  2%|▏         | 18/1176 [02:28<1:18:56,  4.09s/it]"
     ]
    },
    {
     "name": "stdout",
     "output_type": "stream",
     "text": [
      "[DEBUG] Getting ghazal hyperlinks for author:  aaga-nisaar\n"
     ]
    },
    {
     "name": "stderr",
     "output_type": "stream",
     "text": [
      "\r",
      "  2%|▏         | 19/1176 [02:30<1:08:58,  3.58s/it]"
     ]
    },
    {
     "name": "stdout",
     "output_type": "stream",
     "text": [
      "[DEBUG] Getting ghazal hyperlinks for author:  aagha-akbarabadi\n"
     ]
    },
    {
     "name": "stderr",
     "output_type": "stream",
     "text": [
      "\r",
      "  2%|▏         | 20/1176 [03:27<6:17:51, 19.61s/it]"
     ]
    },
    {
     "name": "stdout",
     "output_type": "stream",
     "text": [
      "[DEBUG] Getting ghazal hyperlinks for author:  aagha-babar\n"
     ]
    },
    {
     "name": "stderr",
     "output_type": "stream",
     "text": [
      "\r",
      "  2%|▏         | 21/1176 [03:28<4:29:32, 14.00s/it]"
     ]
    },
    {
     "name": "stdout",
     "output_type": "stream",
     "text": [
      "[DEBUG] Getting ghazal hyperlinks for author:  aah-sambhali\n",
      "[DEBUG] Saved on file... data/ghazals_A_120220309185330.csv\n"
     ]
    },
    {
     "name": "stderr",
     "output_type": "stream",
     "text": [
      "\r",
      "  2%|▏         | 22/1176 [03:53<5:33:37, 17.35s/it]"
     ]
    },
    {
     "name": "stdout",
     "output_type": "stream",
     "text": [
      "[DEBUG] Getting ghazal hyperlinks for author:  aajiz-hengan-ghati\n"
     ]
    },
    {
     "name": "stderr",
     "output_type": "stream",
     "text": [
      "\r",
      "  2%|▏         | 23/1176 [04:01<4:37:17, 14.43s/it]"
     ]
    },
    {
     "name": "stdout",
     "output_type": "stream",
     "text": [
      "[DEBUG] Getting ghazal hyperlinks for author:  aajiz-meer-puri\n"
     ]
    },
    {
     "name": "stderr",
     "output_type": "stream",
     "text": [
      "\r",
      "  2%|▏         | 24/1176 [04:02<3:18:34, 10.34s/it]"
     ]
    },
    {
     "name": "stdout",
     "output_type": "stream",
     "text": [
      "[DEBUG] Getting ghazal hyperlinks for author:  aakif-ghani\n"
     ]
    },
    {
     "name": "stderr",
     "output_type": "stream",
     "text": [
      "\r",
      "  2%|▏         | 25/1176 [04:08<2:52:56,  9.01s/it]"
     ]
    },
    {
     "name": "stdout",
     "output_type": "stream",
     "text": [
      "[DEBUG] Getting ghazal hyperlinks for author:  aalam-nizami\n"
     ]
    },
    {
     "name": "stderr",
     "output_type": "stream",
     "text": [
      "\r",
      "  2%|▏         | 26/1176 [04:26<3:44:52, 11.73s/it]"
     ]
    },
    {
     "name": "stdout",
     "output_type": "stream",
     "text": [
      "[DEBUG] Getting ghazal hyperlinks for author:  aale-ahmad-suroor\n"
     ]
    }
   ],
   "source": [
    "save_files(False)"
   ]
  },
  {
   "cell_type": "code",
   "execution_count": null,
   "metadata": {},
   "outputs": [],
   "source": []
  },
  {
   "cell_type": "code",
   "execution_count": null,
   "metadata": {},
   "outputs": [],
   "source": []
  },
  {
   "cell_type": "code",
   "execution_count": null,
   "metadata": {},
   "outputs": [],
   "source": []
  }
 ],
 "metadata": {
  "kernelspec": {
   "display_name": "Python 3",
   "language": "python",
   "name": "python3"
  },
  "language_info": {
   "codemirror_mode": {
    "name": "ipython",
    "version": 3
   },
   "file_extension": ".py",
   "mimetype": "text/x-python",
   "name": "python",
   "nbconvert_exporter": "python",
   "pygments_lexer": "ipython3",
   "version": "3.7.9"
  }
 },
 "nbformat": 4,
 "nbformat_minor": 4
}
