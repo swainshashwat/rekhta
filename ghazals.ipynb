{
 "cells": [
  {
   "cell_type": "code",
   "execution_count": 12,
   "metadata": {},
   "outputs": [],
   "source": [
    "import os\n",
    "import time\n",
    "import csv\n",
    "import signal\n",
    "import string\n",
    "from tqdm import tqdm\n",
    "from contextlib import contextmanager\n",
    "\n",
    "import pandas as pd\n",
    "\n",
    "from selenium import webdriver\n",
    "from selenium.webdriver.common.keys import Keys\n",
    "\n",
    "import requests\n",
    "from bs4 import BeautifulSoup\n",
    "\n",
    "from multiprocessing import Pool\n",
    "from multiprocessing import cpu_count"
   ]
  },
  {
   "cell_type": "code",
   "execution_count": 13,
   "metadata": {},
   "outputs": [],
   "source": [
    "@contextmanager\n",
    "def timeout(duration):\n",
    "    def timeout_handler(signum, frame):\n",
    "        raise Exception(f'block timedout after {duration} seconds')\n",
    "    signal.signal(signal.SIGALRM, timeout_handler)\n",
    "    signal.alarm(duration)\n",
    "    yield\n",
    "    signal.alarm(0)"
   ]
  },
  {
   "cell_type": "code",
   "execution_count": 14,
   "metadata": {},
   "outputs": [],
   "source": [
    "def scroll_down(driver):\n",
    "    \"\"\"A method for scrolling the page.\"\"\"\n",
    "    \n",
    "    height = \"offsetHeight\"\n",
    "\n",
    "    # Get scroll height.\n",
    "    last_height = driver.execute_script(\"return document.body.\"+height)\n",
    "\n",
    "    while True:\n",
    "        \n",
    "        \n",
    "        print(\"scrolling...\")\n",
    "        # Scroll down to the bottom.\n",
    "        driver.execute_script(\"window.scrollTo(0, document.body.\"+height+\");\")\n",
    "\n",
    "        # Wait to load the page.\n",
    "        print(\"waiting\")\n",
    "        time.sleep(3)\n",
    "        \n",
    "        try:\n",
    "            # Calculate new scroll height and compare with last scroll height.\n",
    "            with timeout(20):\n",
    "                new_height = driver.execute_script(\"return document.body.\"+height)\n",
    "        except Exception:\n",
    "            print('stopped scrolling - time')\n",
    "            break\n",
    "            \n",
    "\n",
    "        if new_height == last_height:\n",
    "            \n",
    "            print('stopped scrolling - reached end')\n",
    "            break\n",
    "\n",
    "        last_height = new_height\n",
    "    \n",
    "    return driver"
   ]
  },
  {
   "cell_type": "code",
   "execution_count": 15,
   "metadata": {},
   "outputs": [],
   "source": [
    "def get_all_author_profile_hyperlink(hyperlink):\n",
    "    print(\"[DEBUG] getting all author links...\")\n",
    "    driver = webdriver.Chrome()\n",
    "\n",
    "    driver.get(hyperlink)\n",
    "\n",
    "    # scroll to laod entire page\n",
    "    driver = scroll_down(driver)\n",
    "\n",
    "    # get author hyperlinks\n",
    "    author_profile_hyperlinks = []\n",
    "    elements = driver.find_elements_by_class_name(\"poetNameDatePlace\")\n",
    "\n",
    "    for element in tqdm(elements):\n",
    "        try:\n",
    "            authoer_profile = element.find_elements_by_tag_name('a')[0].get_attribute('href')\n",
    "            if authoer_profile!=None or (type(authoer_profile)==str and authoer_profile!=''):\n",
    "                author_profile_hyperlinks.append(authoer_profile)\n",
    "            else:\n",
    "                pass\n",
    "        except IndexError:\n",
    "            pass\n",
    "    driver.close()\n",
    "    \n",
    "    return author_profile_hyperlinks"
   ]
  },
  {
   "cell_type": "code",
   "execution_count": 16,
   "metadata": {},
   "outputs": [],
   "source": [
    "def get_ghazal_hyperlinks_from_author_page(author_page_hyperlink):\n",
    "    print(\"[DEBUG] Getting ghazal hyperlinks for author: \", author_page_hyperlink.split(\"/\")[-1])\n",
    "    driver = webdriver.Chrome()\n",
    "\n",
    "    driver.get('{}/ghazals'.format(author_page_hyperlink))\n",
    "    elements = driver.find_elements_by_class_name('rt_bodyTitle')\n",
    "\n",
    "    author_ghazal_hyperlinks = []\n",
    "    for element in elements:\n",
    "        for k in element.find_elements_by_tag_name('a'):\n",
    "            if k.get_attribute('href')==None:\n",
    "                pass\n",
    "            else:\n",
    "                author_ghazal_hyperlinks.append(k.get_attribute('href'))\n",
    "    \n",
    "    driver.close()\n",
    "    \n",
    "    return author_ghazal_hyperlinks"
   ]
  },
  {
   "cell_type": "code",
   "execution_count": 17,
   "metadata": {},
   "outputs": [],
   "source": [
    "def get_beautiful_ghazal_hyperlinks_from_author_page(author_page_hyperlink):\n",
    "    print(\"[DEBUG] Getting ghazal hyperlinks for author: \",\n",
    "          author_page_hyperlink.split(\"/\")[-1])\n",
    "    \n",
    "    r = requests.get('{}/ghazals'.format(author_page_hyperlink))\n",
    "    soup = BeautifulSoup(r.content, 'html5lib')\n",
    "\n",
    "    author_ghazal_hyperlinks = []\n",
    "    elements = soup.findAll('div',class_='rt_bodyTitle')\n",
    "    for element in elements:\n",
    "        author_ghazal_hyperlinks.append(element.findAll('a')[1].get('href'))\n",
    "\n",
    "    \n",
    "    return author_ghazal_hyperlinks"
   ]
  },
  {
   "cell_type": "code",
   "execution_count": 18,
   "metadata": {},
   "outputs": [],
   "source": [
    "def get_ghazal_from_hyperlink(hyperlink):\n",
    "    \n",
    "\n",
    "    complete_ghazals = {\n",
    "        'en': '',\n",
    "        'hi': '',\n",
    "        'ur': ''\n",
    "    }\n",
    "    for lang in complete_ghazals:\n",
    "        driver = webdriver.Chrome()\n",
    "        if lang=='en':\n",
    "            \n",
    "            driver.get(hyperlink)\n",
    "        else:\n",
    "            driver.get(hyperlink+'?lang='+lang)\n",
    "            \n",
    "    \n",
    "        double_lines = driver.find_elements_by_class_name('c')\n",
    "\n",
    "        check_word_text = False\n",
    "        for double_line in double_lines:\n",
    "            for line in double_line.find_elements_by_tag_name('p'):\n",
    "                for word in line.find_elements_by_tag_name('span'):\n",
    "                    if word.text==None or word.text=='':\n",
    "                        check_word_text=False\n",
    "                    else:\n",
    "                        check_word_text=True\n",
    "                    complete_ghazals[lang] +=word.text\n",
    "                if check_word_text:\n",
    "                    complete_ghazals[lang]+=\"\\n\"\n",
    "            if check_word_text:\n",
    "                complete_ghazals[lang]+=\"\\n\\n\"\n",
    "        driver.close()\n",
    "    return complete_ghazals\n"
   ]
  },
  {
   "cell_type": "code",
   "execution_count": 19,
   "metadata": {},
   "outputs": [],
   "source": [
    "def get_beautiful_ghazal_from_hyperlink(hyperlink):\n",
    "    \n",
    "    print(\"[DEBUG]\")\n",
    "    \n",
    "    complete_ghazals = {\n",
    "        'en': '',\n",
    "        'hi': '',\n",
    "        'ur': ''\n",
    "    }\n",
    "    for lang in complete_ghazals:\n",
    "        if lang=='en':\n",
    "            \n",
    "            r = requests.get(hyperlink)\n",
    "        else:\n",
    "            r = requests.get(hyperlink+'?lang='+lang)\n",
    "        \n",
    "        soup = BeautifulSoup(r.content, 'html5lib')\n",
    "    \n",
    "        double_lines = soup.findAll(\"div\", class_=\"c\")\n",
    "\n",
    "        for double_line in double_lines:\n",
    "            for line in double_line.findAll('p'):\n",
    "                complete_ghazals[lang] += line.get_text()\n",
    "                complete_ghazals[lang] += \"\\n\"\n",
    "            \n",
    "            complete_ghazals[lang]+=\"\\n\\n\"\n",
    "            \n",
    "    return complete_ghazals\n"
   ]
  },
  {
   "cell_type": "code",
   "execution_count": 20,
   "metadata": {},
   "outputs": [],
   "source": [
    "def get_all_ghazals_for_poets_whose_name_start_with_char(alphabet='a'):\n",
    "    \n",
    "    print(\"[DEBUG] Getting ghazals for poets whose name start with '{}'\".format(alphabet))\n",
    "    \n",
    "    big_data_dict = []\n",
    "    itr = 0\n",
    "    count = 0\n",
    "    \n",
    "    thresh = 1000\n",
    "    \n",
    "    if alphabet.isalpha:\n",
    "        \n",
    "        poet_index_url = \"https://www.rekhta.org/poets?startswith=\" + alphabet.upper()\n",
    "        \n",
    "        author_profile_hyperlinks = get_all_author_profile_hyperlink(poet_index_url)\n",
    "\n",
    "        for author_profile_link in tqdm(author_profile_hyperlinks):\n",
    "            author_name = author_profile_link.split('/')[-1]\n",
    "            ghazal_hyperlinks = get_beautiful_ghazal_hyperlinks_from_author_page(author_profile_link)\n",
    "            \n",
    "            \n",
    "            for ghazal_link in ghazal_hyperlinks:\n",
    "                count+=1\n",
    "                \n",
    "                if count%thresh==0:\n",
    "                    f_name = 'data/ghazals_'+alphabet+'_'+str(int(count/thresh))+'.csv'\n",
    "                    with open(f_name, 'w') as f:\n",
    "                        w = csv.DictWriter(f, big_data_dict.keys())\n",
    "                        w.writeheader()\n",
    "                        w.writerow(big_data_dict)\n",
    "                        print(\"[DEBUG] Saved on file... \"+f_name)\n",
    "                        \n",
    "                    big_data_dict = []\n",
    "                    \n",
    "                else:\n",
    "                    ghazal_name = ghazal_link.split('/')[-1]\n",
    "\n",
    "                    ghazals = get_beautiful_ghazal_from_hyperlink(ghazal_link)\n",
    "\n",
    "                    big_data_dict.extend([None]*len(ghazals.keys()))\n",
    "                    for lang in ghazals:\n",
    "                    \n",
    "                        big_data_dict[itr] = {\n",
    "                            \"author_name\":author_name,\n",
    "                            \"ghazal_name\": ghazal_name,\n",
    "                            \"language\": lang,\n",
    "                            \"ghazal\": ghazals[lang]}\n",
    "\n",
    "                        itr+=1\n",
    "            f_name = 'data/ghazals_'+alphabet+'_'+str(int(count/thresh))+'.csv'       \n",
    "            with open(f_name, 'w') as f:\n",
    "                w = csv.DictWriter(f, big_data_dict.keys())\n",
    "                w.writeheader()\n",
    "                w.writerow(big_data_dict)\n",
    "                print(\"[DEBUG] Saved on file... \"+f_name)\n",
    "            \n",
    "            big_data_dict = []\n",
    "    else:\n",
    "        raise Exception(\"Use an alphabet\")"
   ]
  },
  {
   "cell_type": "code",
   "execution_count": 21,
   "metadata": {},
   "outputs": [],
   "source": [
    "def save_files(pool_flag=False):\n",
    "    \n",
    "    alphabets = list(string.ascii_uppercase)\n",
    "    \n",
    "    if pool_flag:\n",
    "        print(\"creating pools...\")\n",
    "        pool = Pool(cpu_count()*2)\n",
    "\n",
    "        print(\"multi pool run...\")\n",
    "        pool.map(get_all_ghazals_for_poets_whose_name_start_with_char,\n",
    "                     alphabets)\n",
    "    else:\n",
    "        print(\"one pool run...\")\n",
    "        for al in alphabets:\n",
    "            get_all_ghazals_for_poets_whose_name_start_with_char(al)"
   ]
  },
  {
   "cell_type": "code",
   "execution_count": 22,
   "metadata": {
    "scrolled": false
   },
   "outputs": [
    {
     "name": "stdout",
     "output_type": "stream",
     "text": [
      "one pool run...\n",
      "[DEBUG] Getting ghazals for poets whose name start with 'A'\n",
      "[DEBUG] getting all author links...\n",
      "scrolling...\n",
      "waiting\n",
      "scrolling...\n",
      "waiting\n",
      "scrolling...\n",
      "waiting\n",
      "stopped scrolling - time\n"
     ]
    },
    {
     "name": "stderr",
     "output_type": "stream",
     "text": [
      "/home/reverie-pc/anaconda3/envs/nlp/lib/python3.7/site-packages/ipykernel_launcher.py:12: DeprecationWarning: find_elements_by_class_name is deprecated. Please use find_elements(by=By.CLASS_NAME, value=name) instead\n",
      "  if sys.path[0] == '':\n",
      "  0%|          | 0/1174 [00:00<?, ?it/s]/home/reverie-pc/anaconda3/envs/nlp/lib/python3.7/site-packages/selenium/webdriver/remote/webelement.py:359: UserWarning: find_elements_by_tag_name is deprecated. Please use find_elements(by=By.TAG_NAME, value=name) instead\n",
      "  warnings.warn(\"find_elements_by_tag_name is deprecated. Please use find_elements(by=By.TAG_NAME, value=name) instead\")\n",
      "100%|██████████| 1174/1174 [00:17<00:00, 66.79it/s]\n",
      "  0%|          | 0/1174 [00:00<?, ?it/s]"
     ]
    },
    {
     "name": "stdout",
     "output_type": "stream",
     "text": [
      "[DEBUG] Getting ghazal hyperlinks for author:  a-g-josh\n"
     ]
    },
    {
     "name": "stderr",
     "output_type": "stream",
     "text": [
      "\r",
      "  0%|          | 1/1174 [00:30<10:05:05, 30.95s/it]"
     ]
    },
    {
     "name": "stdout",
     "output_type": "stream",
     "text": [
      "[DEBUG] Getting ghazal hyperlinks for author:  a-r-sahil-aleeg\n"
     ]
    },
    {
     "name": "stderr",
     "output_type": "stream",
     "text": [
      "\r",
      "  0%|          | 2/1174 [00:37<5:20:57, 16.43s/it] "
     ]
    },
    {
     "name": "stdout",
     "output_type": "stream",
     "text": [
      "[DEBUG] Getting ghazal hyperlinks for author:  a-d-azhar\n"
     ]
    },
    {
     "name": "stderr",
     "output_type": "stream",
     "text": [
      "\r",
      "  0%|          | 3/1174 [00:39<3:11:29,  9.81s/it]"
     ]
    },
    {
     "name": "stdout",
     "output_type": "stream",
     "text": [
      "[DEBUG] Getting ghazal hyperlinks for author:  a-hameed\n"
     ]
    },
    {
     "name": "stderr",
     "output_type": "stream",
     "text": [
      "\r",
      "  0%|          | 4/1174 [00:41<2:16:39,  7.01s/it]"
     ]
    },
    {
     "name": "stdout",
     "output_type": "stream",
     "text": [
      "[DEBUG] Getting ghazal hyperlinks for author:  a-khayyam-1\n"
     ]
    },
    {
     "name": "stderr",
     "output_type": "stream",
     "text": [
      "\r",
      "  0%|          | 5/1174 [00:44<1:43:19,  5.30s/it]"
     ]
    },
    {
     "name": "stdout",
     "output_type": "stream",
     "text": [
      "[DEBUG] Getting ghazal hyperlinks for author:  adrahi\n"
     ]
    },
    {
     "name": "stderr",
     "output_type": "stream",
     "text": [
      "\r",
      "  1%|          | 6/1174 [00:46<1:20:45,  4.15s/it]"
     ]
    },
    {
     "name": "stdout",
     "output_type": "stream",
     "text": [
      "[DEBUG] Getting ghazal hyperlinks for author:  aabid-adeeb\n"
     ]
    },
    {
     "name": "stderr",
     "output_type": "stream",
     "text": [
      "\r",
      "  1%|          | 7/1174 [01:07<3:08:58,  9.72s/it]"
     ]
    },
    {
     "name": "stdout",
     "output_type": "stream",
     "text": [
      "[DEBUG] Getting ghazal hyperlinks for author:  aabid-jafri\n"
     ]
    },
    {
     "name": "stderr",
     "output_type": "stream",
     "text": [
      "\r",
      "  1%|          | 8/1174 [01:23<3:46:32, 11.66s/it]"
     ]
    },
    {
     "name": "stdout",
     "output_type": "stream",
     "text": [
      "[DEBUG] Getting ghazal hyperlinks for author:  aabid-umar\n"
     ]
    },
    {
     "name": "stderr",
     "output_type": "stream",
     "text": [
      "\r",
      "  1%|          | 9/1174 [01:40<4:21:41, 13.48s/it]"
     ]
    },
    {
     "name": "stdout",
     "output_type": "stream",
     "text": [
      "[DEBUG] Getting ghazal hyperlinks for author:  aabida-urooj\n"
     ]
    },
    {
     "name": "stderr",
     "output_type": "stream",
     "text": [
      "\r",
      "  1%|          | 10/1174 [01:42<3:11:42,  9.88s/it]"
     ]
    },
    {
     "name": "stdout",
     "output_type": "stream",
     "text": [
      "[DEBUG] Getting ghazal hyperlinks for author:  aabidullah-ghazi\n"
     ]
    },
    {
     "name": "stderr",
     "output_type": "stream",
     "text": [
      "\r",
      "  1%|          | 11/1174 [01:44<2:27:15,  7.60s/it]"
     ]
    },
    {
     "name": "stdout",
     "output_type": "stream",
     "text": [
      "[DEBUG] Getting ghazal hyperlinks for author:  aadarsh-dubey\n"
     ]
    },
    {
     "name": "stderr",
     "output_type": "stream",
     "text": [
      "\r",
      "  1%|          | 12/1174 [02:07<3:56:14, 12.20s/it]"
     ]
    },
    {
     "name": "stdout",
     "output_type": "stream",
     "text": [
      "[DEBUG] Getting ghazal hyperlinks for author:  aadil-aseer-dehlvi\n"
     ]
    },
    {
     "name": "stderr",
     "output_type": "stream",
     "text": [
      "\r",
      "  1%|          | 13/1174 [02:09<2:55:04,  9.05s/it]"
     ]
    },
    {
     "name": "stdout",
     "output_type": "stream",
     "text": [
      "[DEBUG] Getting ghazal hyperlinks for author:  aadil-rasheed\n"
     ]
    },
    {
     "name": "stderr",
     "output_type": "stream",
     "text": [
      "\r",
      "  1%|          | 14/1174 [02:11<2:15:07,  6.99s/it]"
     ]
    },
    {
     "name": "stdout",
     "output_type": "stream",
     "text": [
      "[DEBUG] Getting ghazal hyperlinks for author:  aadil-raza-mansoori\n"
     ]
    },
    {
     "name": "stderr",
     "output_type": "stream",
     "text": [
      "\r",
      "  1%|▏         | 15/1174 [02:29<3:18:01, 10.25s/it]"
     ]
    },
    {
     "name": "stdout",
     "output_type": "stream",
     "text": [
      "[DEBUG] Getting ghazal hyperlinks for author:  aafaque-siddiqui\n"
     ]
    },
    {
     "name": "stderr",
     "output_type": "stream",
     "text": [
      "\r",
      "  1%|▏         | 16/1174 [02:31<2:31:23,  7.84s/it]"
     ]
    },
    {
     "name": "stdout",
     "output_type": "stream",
     "text": [
      "[DEBUG] Getting ghazal hyperlinks for author:  aaftab-lakhnvi\n"
     ]
    },
    {
     "name": "stderr",
     "output_type": "stream",
     "text": [
      "\r",
      "  1%|▏         | 17/1174 [02:33<1:57:53,  6.11s/it]"
     ]
    },
    {
     "name": "stdout",
     "output_type": "stream",
     "text": [
      "[DEBUG] Getting ghazal hyperlinks for author:  aaftab-rais-panipati\n"
     ]
    },
    {
     "name": "stderr",
     "output_type": "stream",
     "text": [
      "\r",
      "  2%|▏         | 18/1174 [02:35<1:34:58,  4.93s/it]"
     ]
    },
    {
     "name": "stdout",
     "output_type": "stream",
     "text": [
      "[DEBUG] Getting ghazal hyperlinks for author:  aaga-nisaar\n"
     ]
    },
    {
     "name": "stderr",
     "output_type": "stream",
     "text": [
      "\r",
      "  2%|▏         | 19/1174 [02:37<1:18:12,  4.06s/it]"
     ]
    },
    {
     "name": "stdout",
     "output_type": "stream",
     "text": [
      "[DEBUG] Getting ghazal hyperlinks for author:  aagha-akbarabadi\n"
     ]
    },
    {
     "name": "stderr",
     "output_type": "stream",
     "text": [
      "\r",
      "  2%|▏         | 20/1174 [03:32<6:09:39, 19.22s/it]"
     ]
    },
    {
     "name": "stdout",
     "output_type": "stream",
     "text": [
      "[DEBUG] Getting ghazal hyperlinks for author:  aagha-babar\n"
     ]
    },
    {
     "name": "stderr",
     "output_type": "stream",
     "text": [
      "\r",
      "  2%|▏         | 21/1174 [03:34<4:32:15, 14.17s/it]"
     ]
    },
    {
     "name": "stdout",
     "output_type": "stream",
     "text": [
      "[DEBUG] Getting ghazal hyperlinks for author:  aah-sambhali\n"
     ]
    },
    {
     "name": "stderr",
     "output_type": "stream",
     "text": [
      "\r",
      "  2%|▏         | 22/1174 [04:03<5:53:49, 18.43s/it]"
     ]
    },
    {
     "name": "stdout",
     "output_type": "stream",
     "text": [
      "[DEBUG] Getting ghazal hyperlinks for author:  aajiz-hengan-ghati\n"
     ]
    },
    {
     "name": "stderr",
     "output_type": "stream",
     "text": [
      "\r",
      "  2%|▏         | 23/1174 [04:13<5:05:31, 15.93s/it]"
     ]
    },
    {
     "name": "stdout",
     "output_type": "stream",
     "text": [
      "[DEBUG] Getting ghazal hyperlinks for author:  aajiz-meer-puri\n"
     ]
    },
    {
     "name": "stderr",
     "output_type": "stream",
     "text": [
      "\r",
      "  2%|▏         | 24/1174 [04:14<3:39:15, 11.44s/it]"
     ]
    },
    {
     "name": "stdout",
     "output_type": "stream",
     "text": [
      "[DEBUG] Getting ghazal hyperlinks for author:  aakif-ghani\n"
     ]
    },
    {
     "name": "stderr",
     "output_type": "stream",
     "text": [
      "\r",
      "  2%|▏         | 25/1174 [04:21<3:14:10, 10.14s/it]"
     ]
    },
    {
     "name": "stdout",
     "output_type": "stream",
     "text": [
      "[DEBUG] Getting ghazal hyperlinks for author:  aale-ahmad-suroor\n"
     ]
    },
    {
     "name": "stderr",
     "output_type": "stream",
     "text": [
      "\r",
      "  2%|▏         | 26/1174 [05:24<8:17:47, 26.02s/it]"
     ]
    },
    {
     "name": "stdout",
     "output_type": "stream",
     "text": [
      "[DEBUG] Getting ghazal hyperlinks for author:  aal-e-raza-raza\n"
     ]
    },
    {
     "name": "stderr",
     "output_type": "stream",
     "text": [
      "\r",
      "  2%|▏         | 27/1174 [05:40<7:18:22, 22.93s/it]"
     ]
    },
    {
     "name": "stdout",
     "output_type": "stream",
     "text": [
      "[DEBUG] Getting ghazal hyperlinks for author:  aal-e-umar\n"
     ]
    },
    {
     "name": "stderr",
     "output_type": "stream",
     "text": [
      "\r",
      "  2%|▏         | 28/1174 [05:52<6:18:39, 19.83s/it]"
     ]
    },
    {
     "name": "stdout",
     "output_type": "stream",
     "text": [
      "[DEBUG] Getting ghazal hyperlinks for author:  aali-gopalpuri\n"
     ]
    },
    {
     "name": "stderr",
     "output_type": "stream",
     "text": [
      "\r",
      "  2%|▏         | 29/1174 [06:09<6:03:31, 19.05s/it]"
     ]
    },
    {
     "name": "stdout",
     "output_type": "stream",
     "text": [
      "[DEBUG] Getting ghazal hyperlinks for author:  aalok-shrivastav\n"
     ]
    },
    {
     "name": "stderr",
     "output_type": "stream",
     "text": [
      "\r",
      "  3%|▎         | 30/1174 [06:46<7:42:40, 24.27s/it]"
     ]
    },
    {
     "name": "stdout",
     "output_type": "stream",
     "text": [
      "[DEBUG] Getting ghazal hyperlinks for author:  aamil-darvesh\n"
     ]
    },
    {
     "name": "stderr",
     "output_type": "stream",
     "text": [
      "\r",
      "  3%|▎         | 31/1174 [06:48<5:33:02, 17.48s/it]"
     ]
    },
    {
     "name": "stdout",
     "output_type": "stream",
     "text": [
      "[DEBUG] Getting ghazal hyperlinks for author:  aamina-azfar\n"
     ]
    },
    {
     "name": "stderr",
     "output_type": "stream",
     "text": [
      "\r",
      "  3%|▎         | 32/1174 [06:49<4:02:45, 12.75s/it]"
     ]
    },
    {
     "name": "stdout",
     "output_type": "stream",
     "text": [
      "[DEBUG] Getting ghazal hyperlinks for author:  aamina-mufti\n"
     ]
    },
    {
     "name": "stderr",
     "output_type": "stream",
     "text": [
      "\r",
      "  3%|▎         | 33/1174 [06:51<3:00:11,  9.48s/it]"
     ]
    },
    {
     "name": "stdout",
     "output_type": "stream",
     "text": [
      "[DEBUG] Getting ghazal hyperlinks for author:  aamir-khan-1\n"
     ]
    },
    {
     "name": "stderr",
     "output_type": "stream",
     "text": [
      "\r",
      "  3%|▎         | 34/1174 [07:22<4:59:48, 15.78s/it]"
     ]
    },
    {
     "name": "stdout",
     "output_type": "stream",
     "text": [
      "[DEBUG] Getting ghazal hyperlinks for author:  aamir-riaz-1\n"
     ]
    },
    {
     "name": "stderr",
     "output_type": "stream",
     "text": [
      "\r",
      "  3%|▎         | 35/1174 [07:23<3:39:25, 11.56s/it]"
     ]
    },
    {
     "name": "stdout",
     "output_type": "stream",
     "text": [
      "[DEBUG] Getting ghazal hyperlinks for author:  aamir-souqi\n"
     ]
    },
    {
     "name": "stderr",
     "output_type": "stream",
     "text": [
      "\r",
      "  3%|▎         | 36/1174 [07:36<3:46:41, 11.95s/it]"
     ]
    },
    {
     "name": "stdout",
     "output_type": "stream",
     "text": [
      "[DEBUG] Getting ghazal hyperlinks for author:  aamir-suhail\n"
     ]
    },
    {
     "name": "stderr",
     "output_type": "stream",
     "text": [
      "\r",
      "  3%|▎         | 37/1174 [08:11<5:57:07, 18.85s/it]"
     ]
    },
    {
     "name": "stdout",
     "output_type": "stream",
     "text": [
      "[DEBUG] Getting ghazal hyperlinks for author:  aanand-saroop-anjum\n"
     ]
    },
    {
     "name": "stderr",
     "output_type": "stream",
     "text": [
      "\r",
      "  3%|▎         | 38/1174 [08:32<6:06:32, 19.36s/it]"
     ]
    },
    {
     "name": "stdout",
     "output_type": "stream",
     "text": [
      "[DEBUG] Getting ghazal hyperlinks for author:  aanis-moin\n"
     ]
    },
    {
     "name": "stderr",
     "output_type": "stream",
     "text": [
      "\r",
      "  3%|▎         | 39/1174 [08:54<6:24:43, 20.34s/it]"
     ]
    },
    {
     "name": "stdout",
     "output_type": "stream",
     "text": [
      "[DEBUG] Getting ghazal hyperlinks for author:  aaquib-shaad\n"
     ]
    },
    {
     "name": "stderr",
     "output_type": "stream",
     "text": [
      "\r",
      "  3%|▎         | 40/1174 [09:08<5:46:45, 18.35s/it]"
     ]
    },
    {
     "name": "stdout",
     "output_type": "stream",
     "text": [
      "[DEBUG] Getting ghazal hyperlinks for author:  aarif-aazmi\n"
     ]
    },
    {
     "name": "stderr",
     "output_type": "stream",
     "text": [
      "\r",
      "  3%|▎         | 41/1174 [09:22<5:20:20, 16.96s/it]"
     ]
    },
    {
     "name": "stdout",
     "output_type": "stream",
     "text": [
      "[DEBUG] Getting ghazal hyperlinks for author:  aarif-akhtar-naqvi\n"
     ]
    },
    {
     "name": "stderr",
     "output_type": "stream",
     "text": [
      "\r",
      "  4%|▎         | 42/1174 [09:35<5:01:11, 15.96s/it]"
     ]
    },
    {
     "name": "stdout",
     "output_type": "stream",
     "text": [
      "[DEBUG] Getting ghazal hyperlinks for author:  aarif-zaman\n"
     ]
    },
    {
     "name": "stderr",
     "output_type": "stream",
     "text": [
      "\r",
      "  4%|▎         | 43/1174 [09:45<4:22:41, 13.94s/it]"
     ]
    },
    {
     "name": "stdout",
     "output_type": "stream",
     "text": [
      "[DEBUG] Getting ghazal hyperlinks for author:  aarifuddin-aajiz\n"
     ]
    },
    {
     "name": "stderr",
     "output_type": "stream",
     "text": [
      "\r",
      "  4%|▎         | 44/1174 [09:47<3:15:14, 10.37s/it]"
     ]
    },
    {
     "name": "stdout",
     "output_type": "stream",
     "text": [
      "[DEBUG] Getting ghazal hyperlinks for author:  aarij-meer\n"
     ]
    },
    {
     "name": "stderr",
     "output_type": "stream",
     "text": [
      "\r",
      "  4%|▍         | 45/1174 [10:08<4:15:57, 13.60s/it]"
     ]
    },
    {
     "name": "stdout",
     "output_type": "stream",
     "text": [
      "[DEBUG] Getting ghazal hyperlinks for author:  aarush-sarkaar\n"
     ]
    },
    {
     "name": "stderr",
     "output_type": "stream",
     "text": [
      "\r",
      "  4%|▍         | 46/1174 [10:12<3:21:34, 10.72s/it]"
     ]
    },
    {
     "name": "stdout",
     "output_type": "stream",
     "text": [
      "[DEBUG] Getting ghazal hyperlinks for author:  aas-fatmi\n"
     ]
    },
    {
     "name": "stderr",
     "output_type": "stream",
     "text": [
      "\r",
      "  4%|▍         | 47/1174 [10:18<2:56:14,  9.38s/it]"
     ]
    },
    {
     "name": "stdout",
     "output_type": "stream",
     "text": [
      "[DEBUG] Getting ghazal hyperlinks for author:  aashiq-jafri\n"
     ]
    },
    {
     "name": "stderr",
     "output_type": "stream",
     "text": [
      "\r",
      "  4%|▍         | 48/1174 [10:28<2:59:59,  9.59s/it]"
     ]
    },
    {
     "name": "stdout",
     "output_type": "stream",
     "text": [
      "[DEBUG] Getting ghazal hyperlinks for author:  aashna-shahjahanpuri\n"
     ]
    },
    {
     "name": "stderr",
     "output_type": "stream",
     "text": [
      "\r",
      "  4%|▍         | 49/1174 [10:30<2:14:19,  7.16s/it]"
     ]
    },
    {
     "name": "stdout",
     "output_type": "stream",
     "text": [
      "[DEBUG] Getting ghazal hyperlinks for author:  aashufta-changezi\n"
     ]
    },
    {
     "name": "stderr",
     "output_type": "stream",
     "text": [
      "\r",
      "  4%|▍         | 50/1174 [11:47<8:47:07, 28.14s/it]"
     ]
    },
    {
     "name": "stdout",
     "output_type": "stream",
     "text": [
      "[DEBUG] Getting ghazal hyperlinks for author:  aashufta-shahjahanpuri\n"
     ]
    },
    {
     "name": "stderr",
     "output_type": "stream",
     "text": [
      "\r",
      "  4%|▍         | 51/1174 [12:06<7:57:01, 25.49s/it]"
     ]
    },
    {
     "name": "stdout",
     "output_type": "stream",
     "text": [
      "[DEBUG] Getting ghazal hyperlinks for author:  aasi-aarwi\n"
     ]
    },
    {
     "name": "stderr",
     "output_type": "stream",
     "text": [
      "\r",
      "  4%|▍         | 52/1174 [12:34<8:11:04, 26.26s/it]"
     ]
    },
    {
     "name": "stdout",
     "output_type": "stream",
     "text": [
      "[DEBUG] Getting ghazal hyperlinks for author:  aasi-faiqi\n"
     ]
    },
    {
     "name": "stderr",
     "output_type": "stream",
     "text": [
      "\r",
      "  5%|▍         | 53/1174 [13:01<8:11:46, 26.32s/it]"
     ]
    },
    {
     "name": "stdout",
     "output_type": "stream",
     "text": [
      "[DEBUG] Getting ghazal hyperlinks for author:  aasi-ghazipuri\n"
     ]
    },
    {
     "name": "stderr",
     "output_type": "stream",
     "text": [
      "\r",
      "  5%|▍         | 54/1174 [13:41<9:28:10, 30.44s/it]"
     ]
    },
    {
     "name": "stdout",
     "output_type": "stream",
     "text": [
      "[DEBUG] Getting ghazal hyperlinks for author:  aasi-jhansvi\n"
     ]
    },
    {
     "name": "stderr",
     "output_type": "stream",
     "text": [
      "\r",
      "  5%|▍         | 55/1174 [13:42<6:46:51, 21.82s/it]"
     ]
    },
    {
     "name": "stdout",
     "output_type": "stream",
     "text": [
      "[DEBUG] Getting ghazal hyperlinks for author:  aasi-karnali\n"
     ]
    },
    {
     "name": "stderr",
     "output_type": "stream",
     "text": [
      "\r",
      "  5%|▍         | 56/1174 [13:47<5:10:34, 16.67s/it]"
     ]
    },
    {
     "name": "stdout",
     "output_type": "stream",
     "text": [
      "[DEBUG] Getting ghazal hyperlinks for author:  aasi-kashmiri\n"
     ]
    },
    {
     "name": "stderr",
     "output_type": "stream",
     "text": [
      "\r",
      "  5%|▍         | 57/1174 [13:56<4:30:35, 14.53s/it]"
     ]
    },
    {
     "name": "stdout",
     "output_type": "stream",
     "text": [
      "[DEBUG] Getting ghazal hyperlinks for author:  aasi-ramnagri\n"
     ]
    },
    {
     "name": "stderr",
     "output_type": "stream",
     "text": [
      "\r",
      "  5%|▍         | 58/1174 [14:35<6:44:54, 21.77s/it]"
     ]
    },
    {
     "name": "stdout",
     "output_type": "stream",
     "text": [
      "[DEBUG] Getting ghazal hyperlinks for author:  aasi-rizvi\n"
     ]
    },
    {
     "name": "stderr",
     "output_type": "stream",
     "text": [
      "\r",
      "  5%|▌         | 59/1174 [14:36<4:47:49, 15.49s/it]"
     ]
    },
    {
     "name": "stdout",
     "output_type": "stream",
     "text": [
      "[DEBUG] Getting ghazal hyperlinks for author:  aasi-uldani\n"
     ]
    },
    {
     "name": "stderr",
     "output_type": "stream",
     "text": [
      "\r",
      "  5%|▌         | 60/1174 [14:43<4:01:08, 12.99s/it]"
     ]
    },
    {
     "name": "stdout",
     "output_type": "stream",
     "text": [
      "[DEBUG] Getting ghazal hyperlinks for author:  aasim-pirzada\n"
     ]
    },
    {
     "name": "stderr",
     "output_type": "stream",
     "text": [
      "\r",
      "  5%|▌         | 61/1174 [14:45<2:58:57,  9.65s/it]"
     ]
    },
    {
     "name": "stdout",
     "output_type": "stream",
     "text": [
      "[DEBUG] Getting ghazal hyperlinks for author:  aasim-shahnawaz-shibli\n"
     ]
    },
    {
     "name": "stderr",
     "output_type": "stream",
     "text": [
      "\r",
      "  5%|▌         | 62/1174 [14:50<2:35:15,  8.38s/it]"
     ]
    },
    {
     "name": "stdout",
     "output_type": "stream",
     "text": [
      "[DEBUG] Getting ghazal hyperlinks for author:  aasima-syed\n"
     ]
    },
    {
     "name": "stderr",
     "output_type": "stream",
     "text": [
      "\r",
      "  5%|▌         | 63/1174 [14:54<2:06:26,  6.83s/it]"
     ]
    },
    {
     "name": "stdout",
     "output_type": "stream",
     "text": [
      "[DEBUG] Getting ghazal hyperlinks for author:  aasnath-kanwal\n"
     ]
    },
    {
     "name": "stderr",
     "output_type": "stream",
     "text": [
      "\r",
      "  5%|▌         | 64/1174 [15:09<2:51:50,  9.29s/it]"
     ]
    },
    {
     "name": "stdout",
     "output_type": "stream",
     "text": [
      "[DEBUG] Getting ghazal hyperlinks for author:  aatif-kamal-rana\n"
     ]
    },
    {
     "name": "stderr",
     "output_type": "stream",
     "text": [
      "\r",
      "  6%|▌         | 65/1174 [15:19<3:00:32,  9.77s/it]"
     ]
    },
    {
     "name": "stdout",
     "output_type": "stream",
     "text": [
      "[DEBUG] Getting ghazal hyperlinks for author:  aatif-waheed-yasir\n"
     ]
    },
    {
     "name": "stderr",
     "output_type": "stream",
     "text": [
      "\r",
      "  6%|▌         | 66/1174 [15:29<2:59:13,  9.71s/it]"
     ]
    },
    {
     "name": "stdout",
     "output_type": "stream",
     "text": [
      "[DEBUG] Getting ghazal hyperlinks for author:  aatish-bahawalpuri\n"
     ]
    },
    {
     "name": "stderr",
     "output_type": "stream",
     "text": [
      "\r",
      "  6%|▌         | 67/1174 [15:51<4:05:34, 13.31s/it]"
     ]
    },
    {
     "name": "stdout",
     "output_type": "stream",
     "text": [
      "[DEBUG] Getting ghazal hyperlinks for author:  aatish-indori\n"
     ]
    },
    {
     "name": "stderr",
     "output_type": "stream",
     "text": [
      "\r",
      "  6%|▌         | 68/1174 [16:08<4:26:19, 14.45s/it]"
     ]
    },
    {
     "name": "stdout",
     "output_type": "stream",
     "text": [
      "[DEBUG] Getting ghazal hyperlinks for author:  aatish-raza\n"
     ]
    },
    {
     "name": "stderr",
     "output_type": "stream",
     "text": [
      "\r",
      "  6%|▌         | 69/1174 [16:25<4:39:53, 15.20s/it]"
     ]
    },
    {
     "name": "stdout",
     "output_type": "stream",
     "text": [
      "[DEBUG] Getting ghazal hyperlinks for author:  aawara-hyderabadi\n"
     ]
    },
    {
     "name": "stderr",
     "output_type": "stream",
     "text": [
      "\r",
      "  6%|▌         | 70/1174 [16:27<3:29:25, 11.38s/it]"
     ]
    },
    {
     "name": "stdout",
     "output_type": "stream",
     "text": [
      "[DEBUG] Getting ghazal hyperlinks for author:  aazam-khursheed\n"
     ]
    },
    {
     "name": "stderr",
     "output_type": "stream",
     "text": [
      "\r",
      "  6%|▌         | 71/1174 [16:38<3:24:06, 11.10s/it]"
     ]
    },
    {
     "name": "stdout",
     "output_type": "stream",
     "text": [
      "[DEBUG] Getting ghazal hyperlinks for author:  aazim-gurvinder-singh-kohli\n"
     ]
    },
    {
     "name": "stderr",
     "output_type": "stream",
     "text": [
      "\r",
      "  6%|▌         | 72/1174 [16:54<3:49:50, 12.51s/it]"
     ]
    },
    {
     "name": "stdout",
     "output_type": "stream",
     "text": [
      "[DEBUG] Getting ghazal hyperlinks for author:  aazim-kohli\n"
     ]
    },
    {
     "name": "stderr",
     "output_type": "stream",
     "text": [
      "\r",
      "  6%|▌         | 73/1174 [17:30<6:01:17, 19.69s/it]"
     ]
    },
    {
     "name": "stdout",
     "output_type": "stream",
     "text": [
      "[DEBUG] Getting ghazal hyperlinks for author:  abaan-asif-kachkar\n"
     ]
    },
    {
     "name": "stderr",
     "output_type": "stream",
     "text": [
      "\r",
      "  6%|▋         | 74/1174 [17:46<5:41:38, 18.63s/it]"
     ]
    },
    {
     "name": "stdout",
     "output_type": "stream",
     "text": [
      "[DEBUG] Getting ghazal hyperlinks for author:  abad-lakhnavi\n"
     ]
    },
    {
     "name": "stderr",
     "output_type": "stream",
     "text": [
      "\r",
      "  6%|▋         | 75/1174 [17:48<4:10:19, 13.67s/it]"
     ]
    },
    {
     "name": "stdout",
     "output_type": "stream",
     "text": [
      "[DEBUG] Getting ghazal hyperlinks for author:  abbas-ali-khan-bekhud\n"
     ]
    },
    {
     "name": "stderr",
     "output_type": "stream",
     "text": [
      "\r",
      "  6%|▋         | 76/1174 [18:37<7:25:07, 24.32s/it]"
     ]
    },
    {
     "name": "stdout",
     "output_type": "stream",
     "text": [
      "[DEBUG] Getting ghazal hyperlinks for author:  abbas-alvi\n"
     ]
    },
    {
     "name": "stderr",
     "output_type": "stream",
     "text": [
      "\r",
      "  7%|▋         | 77/1174 [18:44<5:49:18, 19.11s/it]"
     ]
    },
    {
     "name": "stdout",
     "output_type": "stream",
     "text": [
      "[DEBUG] Getting ghazal hyperlinks for author:  abbas-athar\n"
     ]
    },
    {
     "name": "stderr",
     "output_type": "stream",
     "text": [
      "\r",
      "  7%|▋         | 78/1174 [18:47<4:16:21, 14.03s/it]"
     ]
    },
    {
     "name": "stdout",
     "output_type": "stream",
     "text": [
      "[DEBUG] Getting ghazal hyperlinks for author:  abbas-dana\n"
     ]
    },
    {
     "name": "stderr",
     "output_type": "stream",
     "text": [
      "\r",
      "  7%|▋         | 79/1174 [19:17<5:45:08, 18.91s/it]"
     ]
    },
    {
     "name": "stdout",
     "output_type": "stream",
     "text": [
      "[DEBUG] Getting ghazal hyperlinks for author:  abbas-iraqi\n"
     ]
    },
    {
     "name": "stderr",
     "output_type": "stream",
     "text": [
      "\r",
      "  7%|▋         | 80/1174 [19:33<5:28:00, 17.99s/it]"
     ]
    },
    {
     "name": "stdout",
     "output_type": "stream",
     "text": [
      "[DEBUG] Getting ghazal hyperlinks for author:  abbas-kaify\n"
     ]
    },
    {
     "name": "stderr",
     "output_type": "stream",
     "text": [
      "\r",
      "  7%|▋         | 81/1174 [19:37<4:14:21, 13.96s/it]"
     ]
    },
    {
     "name": "stdout",
     "output_type": "stream",
     "text": [
      "[DEBUG] Getting ghazal hyperlinks for author:  abbas-mumtaz\n"
     ]
    },
    {
     "name": "stderr",
     "output_type": "stream",
     "text": [
      "\r",
      "  7%|▋         | 82/1174 [19:52<4:21:00, 14.34s/it]"
     ]
    },
    {
     "name": "stdout",
     "output_type": "stream",
     "text": [
      "[DEBUG] Getting ghazal hyperlinks for author:  abbas-qamar\n"
     ]
    },
    {
     "name": "stderr",
     "output_type": "stream",
     "text": [
      "\r",
      "  7%|▋         | 83/1174 [20:01<3:49:28, 12.62s/it]"
     ]
    },
    {
     "name": "stdout",
     "output_type": "stream",
     "text": [
      "[DEBUG] Getting ghazal hyperlinks for author:  abbas-rizvi\n"
     ]
    },
    {
     "name": "stderr",
     "output_type": "stream",
     "text": [
      "\r",
      "  7%|▋         | 84/1174 [20:21<4:26:23, 14.66s/it]"
     ]
    },
    {
     "name": "stdout",
     "output_type": "stream",
     "text": [
      "[DEBUG] Getting ghazal hyperlinks for author:  abbas-tabish\n"
     ]
    },
    {
     "name": "stderr",
     "output_type": "stream",
     "text": [
      "\r",
      "  7%|▋         | 85/1174 [21:55<11:42:27, 38.70s/it]"
     ]
    },
    {
     "name": "stdout",
     "output_type": "stream",
     "text": [
      "[DEBUG] Getting ghazal hyperlinks for author:  abd-haidar-kazmi\n"
     ]
    },
    {
     "name": "stderr",
     "output_type": "stream",
     "text": [
      "\r",
      "  7%|▋         | 86/1174 [21:57<8:22:54, 27.73s/it] "
     ]
    },
    {
     "name": "stdout",
     "output_type": "stream",
     "text": [
      "[DEBUG] Getting ghazal hyperlinks for author:  abdal-bela\n"
     ]
    },
    {
     "name": "stderr",
     "output_type": "stream",
     "text": [
      "\r",
      "  7%|▋         | 87/1174 [21:59<6:01:18, 19.94s/it]"
     ]
    },
    {
     "name": "stdout",
     "output_type": "stream",
     "text": [
      "[DEBUG] Getting ghazal hyperlinks for author:  abdul-ahad-saaz\n"
     ]
    },
    {
     "name": "stderr",
     "output_type": "stream",
     "text": [
      "\r",
      "  7%|▋         | 88/1174 [23:54<14:33:58, 48.29s/it]"
     ]
    },
    {
     "name": "stdout",
     "output_type": "stream",
     "text": [
      "[DEBUG] Getting ghazal hyperlinks for author:  abdul-aleem-aasi\n"
     ]
    },
    {
     "name": "stderr",
     "output_type": "stream",
     "text": [
      "\r",
      "  8%|▊         | 89/1174 [24:08<11:27:47, 38.03s/it]"
     ]
    },
    {
     "name": "stdout",
     "output_type": "stream",
     "text": [
      "[DEBUG] Getting ghazal hyperlinks for author:  abdul-aziz-ambar\n"
     ]
    },
    {
     "name": "stderr",
     "output_type": "stream",
     "text": [
      "\r",
      "  8%|▊         | 90/1174 [24:10<8:11:30, 27.21s/it] "
     ]
    },
    {
     "name": "stdout",
     "output_type": "stream",
     "text": [
      "[DEBUG] Getting ghazal hyperlinks for author:  abdul-aziz-fitrat\n"
     ]
    },
    {
     "name": "stderr",
     "output_type": "stream",
     "text": [
      "\r",
      "  8%|▊         | 91/1174 [24:20<6:38:08, 22.06s/it]"
     ]
    },
    {
     "name": "stdout",
     "output_type": "stream",
     "text": [
      "[DEBUG] Getting ghazal hyperlinks for author:  abdul-aziz-khalid\n"
     ]
    },
    {
     "name": "stderr",
     "output_type": "stream",
     "text": [
      "\r",
      "  8%|▊         | 92/1174 [24:38<6:18:19, 20.98s/it]"
     ]
    },
    {
     "name": "stdout",
     "output_type": "stream",
     "text": [
      "[DEBUG] Getting ghazal hyperlinks for author:  abdul-bari-arif-jamali\n"
     ]
    },
    {
     "name": "stderr",
     "output_type": "stream",
     "text": [
      "\r",
      "  8%|▊         | 93/1174 [24:40<4:33:10, 15.16s/it]"
     ]
    },
    {
     "name": "stdout",
     "output_type": "stream",
     "text": [
      "[DEBUG] Getting ghazal hyperlinks for author:  abdul-ghaffar-azm\n"
     ]
    },
    {
     "name": "stderr",
     "output_type": "stream",
     "text": [
      "\r",
      "  8%|▊         | 94/1174 [24:44<3:31:31, 11.75s/it]"
     ]
    },
    {
     "name": "stdout",
     "output_type": "stream",
     "text": [
      "[DEBUG] Getting ghazal hyperlinks for author:  abdul-ghafoor-nassakh\n"
     ]
    },
    {
     "name": "stderr",
     "output_type": "stream",
     "text": [
      "\r",
      "  8%|▊         | 95/1174 [24:54<3:24:27, 11.37s/it]"
     ]
    },
    {
     "name": "stdout",
     "output_type": "stream",
     "text": [
      "[DEBUG] Getting ghazal hyperlinks for author:  abdul-ghafoor-saqi\n"
     ]
    },
    {
     "name": "stderr",
     "output_type": "stream",
     "text": [
      "\r",
      "  8%|▊         | 96/1174 [25:16<4:23:51, 14.69s/it]"
     ]
    },
    {
     "name": "stdout",
     "output_type": "stream",
     "text": [
      "[DEBUG] Getting ghazal hyperlinks for author:  abdul-ghani-faizi\n"
     ]
    },
    {
     "name": "stderr",
     "output_type": "stream",
     "text": [
      "\r",
      "  8%|▊         | 97/1174 [25:18<3:13:36, 10.79s/it]"
     ]
    },
    {
     "name": "stdout",
     "output_type": "stream",
     "text": [
      "[DEBUG] Getting ghazal hyperlinks for author:  abdul-ghani-sheikh\n"
     ]
    },
    {
     "name": "stderr",
     "output_type": "stream",
     "text": [
      "\r",
      "  8%|▊         | 98/1174 [25:20<2:27:50,  8.24s/it]"
     ]
    },
    {
     "name": "stdout",
     "output_type": "stream",
     "text": [
      "[DEBUG] Getting ghazal hyperlinks for author:  abdul-hadi-wafa\n"
     ]
    },
    {
     "name": "stderr",
     "output_type": "stream",
     "text": [
      "\r",
      "  8%|▊         | 99/1174 [25:44<3:51:14, 12.91s/it]"
     ]
    },
    {
     "name": "stdout",
     "output_type": "stream",
     "text": [
      "[DEBUG] Getting ghazal hyperlinks for author:  abdul-hafeez-khalish-taskini\n"
     ]
    },
    {
     "name": "stderr",
     "output_type": "stream",
     "text": [
      "\r",
      "  9%|▊         | 100/1174 [25:51<3:16:59, 11.01s/it]"
     ]
    },
    {
     "name": "stdout",
     "output_type": "stream",
     "text": [
      "[DEBUG] Getting ghazal hyperlinks for author:  abdul-hafeez-sahil-qadri\n"
     ]
    },
    {
     "name": "stderr",
     "output_type": "stream",
     "text": [
      "\r",
      "  9%|▊         | 101/1174 [26:09<3:54:15, 13.10s/it]"
     ]
    },
    {
     "name": "stdout",
     "output_type": "stream",
     "text": [
      "[DEBUG] Getting ghazal hyperlinks for author:  abdul-hafiz-naeemi\n"
     ]
    },
    {
     "name": "stderr",
     "output_type": "stream",
     "text": [
      "\r",
      "  9%|▊         | 102/1174 [26:25<4:12:51, 14.15s/it]"
     ]
    },
    {
     "name": "stdout",
     "output_type": "stream",
     "text": [
      "[DEBUG] Getting ghazal hyperlinks for author:  abdul-hai-aarfi\n"
     ]
    },
    {
     "name": "stderr",
     "output_type": "stream",
     "text": [
      "\r",
      "  9%|▉         | 103/1174 [26:29<3:17:27, 11.06s/it]"
     ]
    },
    {
     "name": "stdout",
     "output_type": "stream",
     "text": [
      "[DEBUG] Getting ghazal hyperlinks for author:  abdul-hakim-zakira\n"
     ]
    },
    {
     "name": "stderr",
     "output_type": "stream",
     "text": [
      "\r",
      "  9%|▉         | 104/1174 [26:32<2:31:03,  8.47s/it]"
     ]
    },
    {
     "name": "stdout",
     "output_type": "stream",
     "text": [
      "[DEBUG] Getting ghazal hyperlinks for author:  abdul-halim-sharar\n"
     ]
    },
    {
     "name": "stderr",
     "output_type": "stream",
     "text": [
      "\r",
      "  9%|▉         | 105/1174 [26:39<2:25:48,  8.18s/it]"
     ]
    },
    {
     "name": "stdout",
     "output_type": "stream",
     "text": [
      "[DEBUG] Getting ghazal hyperlinks for author:  abdul-hameed-hosh\n"
     ]
    },
    {
     "name": "stderr",
     "output_type": "stream",
     "text": [
      "\r",
      "  9%|▉         | 106/1174 [26:42<1:56:28,  6.54s/it]"
     ]
    },
    {
     "name": "stdout",
     "output_type": "stream",
     "text": [
      "[DEBUG] Getting ghazal hyperlinks for author:  abdul-hameed-saqi\n"
     ]
    },
    {
     "name": "stderr",
     "output_type": "stream",
     "text": [
      "\r",
      "  9%|▉         | 107/1174 [26:48<1:52:12,  6.31s/it]"
     ]
    },
    {
     "name": "stdout",
     "output_type": "stream",
     "text": [
      "[DEBUG] Getting ghazal hyperlinks for author:  abdul-hamid\n"
     ]
    },
    {
     "name": "stderr",
     "output_type": "stream",
     "text": [
      "\r",
      "  9%|▉         | 108/1174 [27:17<3:56:00, 13.28s/it]"
     ]
    },
    {
     "name": "stdout",
     "output_type": "stream",
     "text": [
      "[DEBUG] Getting ghazal hyperlinks for author:  abdul-hamid-adam\n"
     ]
    },
    {
     "name": "stderr",
     "output_type": "stream",
     "text": [
      "\r",
      "  9%|▉         | 109/1174 [28:39<9:58:24, 33.71s/it]"
     ]
    },
    {
     "name": "stdout",
     "output_type": "stream",
     "text": [
      "[DEBUG] Getting ghazal hyperlinks for author:  abdul-hamid-hairat\n"
     ]
    },
    {
     "name": "stderr",
     "output_type": "stream",
     "text": [
      "\r",
      "  9%|▉         | 110/1174 [28:40<7:07:15, 24.09s/it]"
     ]
    },
    {
     "name": "stdout",
     "output_type": "stream",
     "text": [
      "[DEBUG] Getting ghazal hyperlinks for author:  abdul-jabbar-rahbar-aazmi\n"
     ]
    },
    {
     "name": "stderr",
     "output_type": "stream",
     "text": [
      "\r",
      "  9%|▉         | 111/1174 [28:49<5:43:42, 19.40s/it]"
     ]
    },
    {
     "name": "stdout",
     "output_type": "stream",
     "text": [
      "[DEBUG] Getting ghazal hyperlinks for author:  abdul-kareem-majrooh-siddiqi\n"
     ]
    },
    {
     "name": "stderr",
     "output_type": "stream",
     "text": [
      "\r",
      " 10%|▉         | 112/1174 [28:57<4:42:20, 15.95s/it]"
     ]
    },
    {
     "name": "stdout",
     "output_type": "stream",
     "text": [
      "[DEBUG] Getting ghazal hyperlinks for author:  abdul-kareem-shaiq\n"
     ]
    },
    {
     "name": "stderr",
     "output_type": "stream",
     "text": [
      "\r",
      " 10%|▉         | 113/1174 [29:04<3:54:03, 13.24s/it]"
     ]
    },
    {
     "name": "stdout",
     "output_type": "stream",
     "text": [
      "[DEBUG] Getting ghazal hyperlinks for author:  abdul-majeed-bhatti\n"
     ]
    },
    {
     "name": "stderr",
     "output_type": "stream",
     "text": [
      "\r",
      " 10%|▉         | 114/1174 [29:08<3:06:53, 10.58s/it]"
     ]
    },
    {
     "name": "stdout",
     "output_type": "stream",
     "text": [
      "[DEBUG] Getting ghazal hyperlinks for author:  abdul-majeed-dard-bhopali\n"
     ]
    },
    {
     "name": "stderr",
     "output_type": "stream",
     "text": [
      "\r",
      " 10%|▉         | 115/1174 [29:26<3:48:05, 12.92s/it]"
     ]
    },
    {
     "name": "stdout",
     "output_type": "stream",
     "text": [
      "[DEBUG] Getting ghazal hyperlinks for author:  abdul-majeed-hairat\n"
     ]
    },
    {
     "name": "stderr",
     "output_type": "stream",
     "text": [
      "\r",
      " 10%|▉         | 116/1174 [29:37<3:36:38, 12.29s/it]"
     ]
    },
    {
     "name": "stdout",
     "output_type": "stream",
     "text": [
      "[DEBUG] Getting ghazal hyperlinks for author:  abdul-majeed-karkare\n"
     ]
    },
    {
     "name": "stderr",
     "output_type": "stream",
     "text": [
      "\r",
      " 10%|▉         | 117/1174 [29:42<2:56:11, 10.00s/it]"
     ]
    },
    {
     "name": "stdout",
     "output_type": "stream",
     "text": [
      "[DEBUG] Getting ghazal hyperlinks for author:  abdul-majeed-khan-majeed\n"
     ]
    },
    {
     "name": "stderr",
     "output_type": "stream",
     "text": [
      "\r",
      " 10%|█         | 118/1174 [29:58<3:27:54, 11.81s/it]"
     ]
    },
    {
     "name": "stdout",
     "output_type": "stream",
     "text": [
      "[DEBUG] Getting ghazal hyperlinks for author:  abdul-majeed-khwaja-shaida\n"
     ]
    },
    {
     "name": "stderr",
     "output_type": "stream",
     "text": [
      "\r",
      " 10%|█         | 119/1174 [30:11<3:36:02, 12.29s/it]"
     ]
    },
    {
     "name": "stdout",
     "output_type": "stream",
     "text": [
      "[DEBUG] Getting ghazal hyperlinks for author:  abdul-majeed-manzar-murtajapuri\n"
     ]
    },
    {
     "name": "stderr",
     "output_type": "stream",
     "text": [
      "\r",
      " 10%|█         | 120/1174 [30:17<3:00:46, 10.29s/it]"
     ]
    },
    {
     "name": "stdout",
     "output_type": "stream",
     "text": [
      "[DEBUG] Getting ghazal hyperlinks for author:  abdul-majeed-salik\n"
     ]
    },
    {
     "name": "stderr",
     "output_type": "stream",
     "text": [
      "\r",
      " 10%|█         | 121/1174 [30:35<3:40:50, 12.58s/it]"
     ]
    },
    {
     "name": "stdout",
     "output_type": "stream",
     "text": [
      "[DEBUG] Getting ghazal hyperlinks for author:  abdul-majid-daryabadi\n"
     ]
    },
    {
     "name": "stderr",
     "output_type": "stream",
     "text": [
      "\r",
      " 10%|█         | 122/1174 [30:37<2:47:10,  9.53s/it]"
     ]
    },
    {
     "name": "stdout",
     "output_type": "stream",
     "text": [
      "[DEBUG] Getting ghazal hyperlinks for author:  abdul-malik-soz\n"
     ]
    },
    {
     "name": "stderr",
     "output_type": "stream",
     "text": [
      "\r",
      " 10%|█         | 123/1174 [30:57<3:38:52, 12.50s/it]"
     ]
    },
    {
     "name": "stdout",
     "output_type": "stream",
     "text": [
      "[DEBUG] Getting ghazal hyperlinks for author:  abdul-mannan-samadi\n"
     ]
    },
    {
     "name": "stderr",
     "output_type": "stream",
     "text": [
      "\r",
      " 11%|█         | 124/1174 [31:09<3:35:44, 12.33s/it]"
     ]
    },
    {
     "name": "stdout",
     "output_type": "stream",
     "text": [
      "[DEBUG] Getting ghazal hyperlinks for author:  abdul-mannan-tarzi\n"
     ]
    },
    {
     "name": "stderr",
     "output_type": "stream",
     "text": [
      "\r",
      " 11%|█         | 125/1174 [31:55<6:32:57, 22.48s/it]"
     ]
    },
    {
     "name": "stdout",
     "output_type": "stream",
     "text": [
      "[DEBUG] Getting ghazal hyperlinks for author:  abdul-mateen-niyaz\n"
     ]
    },
    {
     "name": "stderr",
     "output_type": "stream",
     "text": [
      "\r",
      " 11%|█         | 126/1174 [32:11<5:59:46, 20.60s/it]"
     ]
    },
    {
     "name": "stdout",
     "output_type": "stream",
     "text": [
      "[DEBUG] Getting ghazal hyperlinks for author:  abdul-matin-jami\n"
     ]
    },
    {
     "name": "stderr",
     "output_type": "stream",
     "text": [
      "\r",
      " 11%|█         | 127/1174 [32:31<5:54:50, 20.34s/it]"
     ]
    },
    {
     "name": "stdout",
     "output_type": "stream",
     "text": [
      "[DEBUG] Getting ghazal hyperlinks for author:  abdul-mujeeb-sahalvi\n"
     ]
    },
    {
     "name": "stderr",
     "output_type": "stream",
     "text": [
      "\r",
      " 11%|█         | 128/1174 [32:33<4:19:50, 14.91s/it]"
     ]
    },
    {
     "name": "stdout",
     "output_type": "stream",
     "text": [
      "[DEBUG] Getting ghazal hyperlinks for author:  abdul-qadir-1\n"
     ]
    },
    {
     "name": "stderr",
     "output_type": "stream",
     "text": [
      "\r",
      " 11%|█         | 129/1174 [32:53<4:46:20, 16.44s/it]"
     ]
    },
    {
     "name": "stdout",
     "output_type": "stream",
     "text": [
      "[DEBUG] Getting ghazal hyperlinks for author:  abdul-qadir-ahqar-azizi\n"
     ]
    },
    {
     "name": "stderr",
     "output_type": "stream",
     "text": [
      "\r",
      " 11%|█         | 130/1174 [33:08<4:39:26, 16.06s/it]"
     ]
    },
    {
     "name": "stdout",
     "output_type": "stream",
     "text": [
      "[DEBUG] Getting ghazal hyperlinks for author:  abdul-qavi-ziya\n"
     ]
    },
    {
     "name": "stderr",
     "output_type": "stream",
     "text": [
      "\r",
      " 11%|█         | 131/1174 [33:43<6:15:47, 21.62s/it]"
     ]
    },
    {
     "name": "stdout",
     "output_type": "stream",
     "text": [
      "[DEBUG] Getting ghazal hyperlinks for author:  abdul-rahman-bazmi\n"
     ]
    },
    {
     "name": "stderr",
     "output_type": "stream",
     "text": [
      "\r",
      " 11%|█         | 132/1174 [33:48<4:48:52, 16.63s/it]"
     ]
    },
    {
     "name": "stdout",
     "output_type": "stream",
     "text": [
      "[DEBUG] Getting ghazal hyperlinks for author:  abdul-rahman-ehsan-dehlvi\n"
     ]
    },
    {
     "name": "stderr",
     "output_type": "stream",
     "text": [
      " 11%|█         | 132/1174 [35:01<4:36:27, 15.92s/it]\n"
     ]
    },
    {
     "ename": "TypeError",
     "evalue": "expected str, bytes or os.PathLike object, not tuple",
     "output_type": "error",
     "traceback": [
      "\u001b[0;31m---------------------------------------------------------------------------\u001b[0m",
      "\u001b[0;31mTypeError\u001b[0m                                 Traceback (most recent call last)",
      "\u001b[0;32m<ipython-input-22-09725c874dc2>\u001b[0m in \u001b[0;36m<module>\u001b[0;34m\u001b[0m\n\u001b[0;32m----> 1\u001b[0;31m \u001b[0msave_files\u001b[0m\u001b[0;34m(\u001b[0m\u001b[0;32mFalse\u001b[0m\u001b[0;34m)\u001b[0m\u001b[0;34m\u001b[0m\u001b[0;34m\u001b[0m\u001b[0m\n\u001b[0m",
      "\u001b[0;32m<ipython-input-21-a5d29ba4866f>\u001b[0m in \u001b[0;36msave_files\u001b[0;34m(pool_flag)\u001b[0m\n\u001b[1;32m     13\u001b[0m         \u001b[0mprint\u001b[0m\u001b[0;34m(\u001b[0m\u001b[0;34m\"one pool run...\"\u001b[0m\u001b[0;34m)\u001b[0m\u001b[0;34m\u001b[0m\u001b[0;34m\u001b[0m\u001b[0m\n\u001b[1;32m     14\u001b[0m         \u001b[0;32mfor\u001b[0m \u001b[0mal\u001b[0m \u001b[0;32min\u001b[0m \u001b[0malphabets\u001b[0m\u001b[0;34m:\u001b[0m\u001b[0;34m\u001b[0m\u001b[0;34m\u001b[0m\u001b[0m\n\u001b[0;32m---> 15\u001b[0;31m             \u001b[0mget_all_ghazals_for_poets_whose_name_start_with_char\u001b[0m\u001b[0;34m(\u001b[0m\u001b[0mal\u001b[0m\u001b[0;34m)\u001b[0m\u001b[0;34m\u001b[0m\u001b[0;34m\u001b[0m\u001b[0m\n\u001b[0m",
      "\u001b[0;32m<ipython-input-20-2ab1e24ec94f>\u001b[0m in \u001b[0;36mget_all_ghazals_for_poets_whose_name_start_with_char\u001b[0;34m(alphabet)\u001b[0m\n\u001b[1;32m     25\u001b[0m                 \u001b[0;32mif\u001b[0m \u001b[0mcount\u001b[0m\u001b[0;34m%\u001b[0m\u001b[0mthresh\u001b[0m\u001b[0;34m==\u001b[0m\u001b[0;36m0\u001b[0m\u001b[0;34m:\u001b[0m\u001b[0;34m\u001b[0m\u001b[0;34m\u001b[0m\u001b[0m\n\u001b[1;32m     26\u001b[0m                     \u001b[0mf_name\u001b[0m \u001b[0;34m=\u001b[0m \u001b[0;34m'data/ghazals_'\u001b[0m\u001b[0;34m+\u001b[0m\u001b[0malphabet\u001b[0m\u001b[0;34m+\u001b[0m\u001b[0;34m'_'\u001b[0m\u001b[0;34m+\u001b[0m\u001b[0mstr\u001b[0m\u001b[0;34m(\u001b[0m\u001b[0mint\u001b[0m\u001b[0;34m(\u001b[0m\u001b[0mcount\u001b[0m\u001b[0;34m/\u001b[0m\u001b[0mthresh\u001b[0m\u001b[0;34m)\u001b[0m\u001b[0;34m)\u001b[0m\u001b[0;34m+\u001b[0m\u001b[0;34m'.csv'\u001b[0m\u001b[0;34m,\u001b[0m \u001b[0;34m'w'\u001b[0m\u001b[0;34m\u001b[0m\u001b[0;34m\u001b[0m\u001b[0m\n\u001b[0;32m---> 27\u001b[0;31m                     \u001b[0;32mwith\u001b[0m \u001b[0mopen\u001b[0m\u001b[0;34m(\u001b[0m\u001b[0mf_name\u001b[0m\u001b[0;34m)\u001b[0m \u001b[0;32mas\u001b[0m \u001b[0mf\u001b[0m\u001b[0;34m:\u001b[0m\u001b[0;34m\u001b[0m\u001b[0;34m\u001b[0m\u001b[0m\n\u001b[0m\u001b[1;32m     28\u001b[0m                         \u001b[0mw\u001b[0m \u001b[0;34m=\u001b[0m \u001b[0mcsv\u001b[0m\u001b[0;34m.\u001b[0m\u001b[0mDictWriter\u001b[0m\u001b[0;34m(\u001b[0m\u001b[0mf\u001b[0m\u001b[0;34m,\u001b[0m \u001b[0mbig_data_dict\u001b[0m\u001b[0;34m.\u001b[0m\u001b[0mkeys\u001b[0m\u001b[0;34m(\u001b[0m\u001b[0;34m)\u001b[0m\u001b[0;34m)\u001b[0m\u001b[0;34m\u001b[0m\u001b[0;34m\u001b[0m\u001b[0m\n\u001b[1;32m     29\u001b[0m                         \u001b[0mw\u001b[0m\u001b[0;34m.\u001b[0m\u001b[0mwriteheader\u001b[0m\u001b[0;34m(\u001b[0m\u001b[0;34m)\u001b[0m\u001b[0;34m\u001b[0m\u001b[0;34m\u001b[0m\u001b[0m\n",
      "\u001b[0;31mTypeError\u001b[0m: expected str, bytes or os.PathLike object, not tuple"
     ]
    }
   ],
   "source": [
    "save_files(False)"
   ]
  },
  {
   "cell_type": "code",
   "execution_count": null,
   "metadata": {},
   "outputs": [],
   "source": []
  },
  {
   "cell_type": "code",
   "execution_count": null,
   "metadata": {},
   "outputs": [],
   "source": []
  },
  {
   "cell_type": "code",
   "execution_count": null,
   "metadata": {},
   "outputs": [],
   "source": []
  }
 ],
 "metadata": {
  "kernelspec": {
   "display_name": "Python 3",
   "language": "python",
   "name": "python3"
  },
  "language_info": {
   "codemirror_mode": {
    "name": "ipython",
    "version": 3
   },
   "file_extension": ".py",
   "mimetype": "text/x-python",
   "name": "python",
   "nbconvert_exporter": "python",
   "pygments_lexer": "ipython3",
   "version": "3.7.9"
  }
 },
 "nbformat": 4,
 "nbformat_minor": 4
}
